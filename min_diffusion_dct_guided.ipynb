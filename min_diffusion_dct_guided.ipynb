{
  "cells": [
    {
      "cell_type": "markdown",
      "metadata": {
        "id": "view-in-github",
        "colab_type": "text"
      },
      "source": [
        "<a href=\"https://colab.research.google.com/github/sean-halpin/diffusion_models/blob/main/min_diffusion_dct_guided.ipynb\" target=\"_parent\"><img src=\"https://colab.research.google.com/assets/colab-badge.svg\" alt=\"Open In Colab\"/></a>"
      ]
    },
    {
      "cell_type": "code",
      "execution_count": null,
      "metadata": {
        "id": "BNY6aXhoAnkb"
      },
      "outputs": [],
      "source": [
        "!rm -rf /content/images/*"
      ]
    },
    {
      "cell_type": "code",
      "execution_count": null,
      "metadata": {
        "id": "Llm5lF5Rx32V"
      },
      "outputs": [],
      "source": [
        "!mkdir -p /content/images/"
      ]
    },
    {
      "cell_type": "code",
      "execution_count": null,
      "metadata": {
        "id": "bIvCv_xS4nR3"
      },
      "outputs": [],
      "source": [
        "from typing import Dict, Tuple\n",
        "from tqdm import tqdm\n",
        "\n",
        "import torch\n",
        "import torch.nn as nn\n",
        "from torch.utils.data import DataLoader\n",
        "\n",
        "# from torchvision.datasets import MNIST\n",
        "from torchvision import transforms\n",
        "from torchvision.utils import save_image, make_grid"
      ]
    },
    {
      "cell_type": "markdown",
      "metadata": {
        "id": "A9K3x1nQI2BS"
      },
      "source": [
        "### UNet"
      ]
    },
    {
      "cell_type": "code",
      "execution_count": null,
      "metadata": {
        "id": "goLIIwvk5jOO"
      },
      "outputs": [],
      "source": [
        "\"\"\"\n",
        "Simple Unet Structure.\n",
        "\"\"\"\n",
        "import torch\n",
        "import torch.nn as nn\n",
        "import torch.nn.functional as F\n",
        "\n",
        "\n",
        "class Conv3(nn.Module):\n",
        "    def __init__(\n",
        "        self, in_channels: int, out_channels: int, is_res: bool = False\n",
        "    ) -> None:\n",
        "        super().__init__()\n",
        "        self.main = nn.Sequential(\n",
        "            nn.Conv2d(in_channels, out_channels, 3, 1, 1),\n",
        "            nn.GroupNorm(8, out_channels),\n",
        "            nn.ReLU(),\n",
        "        )\n",
        "        self.conv = nn.Sequential(\n",
        "            nn.Conv2d(out_channels, out_channels, 3, 1, 1),\n",
        "            nn.GroupNorm(8, out_channels),\n",
        "            nn.ReLU(),\n",
        "            nn.Conv2d(out_channels, out_channels, 3, 1, 1),\n",
        "            nn.GroupNorm(8, out_channels),\n",
        "            nn.ReLU(),\n",
        "        )\n",
        "\n",
        "        self.is_res = is_res\n",
        "\n",
        "    def forward(self, x: torch.Tensor) -> torch.Tensor:\n",
        "        x = self.main(x)\n",
        "        if self.is_res:\n",
        "            x = x + self.conv(x)\n",
        "            return x / 1.414\n",
        "        else:\n",
        "            return self.conv(x)\n",
        "\n",
        "\n",
        "class UnetDown(nn.Module):\n",
        "    def __init__(self, in_channels: int, out_channels: int) -> None:\n",
        "        super(UnetDown, self).__init__()\n",
        "        layers =  [\n",
        "                    Conv3(in_channels, out_channels), nn.MaxPool2d(2)\n",
        "                  ]\n",
        "        self.model = nn.Sequential(*layers)\n",
        "\n",
        "    def forward(self, x: torch.Tensor) -> torch.Tensor:\n",
        "\n",
        "        return self.model(x)\n",
        "\n",
        "\n",
        "class UnetUp(nn.Module):\n",
        "    def __init__(self, in_channels: int, out_channels: int) -> None:\n",
        "        super(UnetUp, self).__init__()\n",
        "        layers = [\n",
        "            nn.ConvTranspose2d(in_channels, out_channels, 2, 2),\n",
        "            Conv3(out_channels, out_channels),\n",
        "            Conv3(out_channels, out_channels),\n",
        "        ]\n",
        "        self.model = nn.Sequential(*layers)\n",
        "\n",
        "    def forward(self, x: torch.Tensor, skip: torch.Tensor) -> torch.Tensor:\n",
        "        x = torch.cat((x, skip), 1)\n",
        "        x = self.model(x)\n",
        "\n",
        "        return x\n",
        "\n",
        "\n",
        "class TimeSiren(nn.Module):\n",
        "    def __init__(self, emb_dim: int) -> None:\n",
        "        super(TimeSiren, self).__init__()\n",
        "\n",
        "        self.lin1 = nn.Linear(1, emb_dim, bias=False)\n",
        "        self.lin2 = nn.Linear(emb_dim, emb_dim)\n",
        "\n",
        "    def forward(self, x: torch.Tensor) -> torch.Tensor:\n",
        "        x = x.view(-1, 1)\n",
        "        x = torch.sin(self.lin1(x))\n",
        "        x = self.lin2(x)\n",
        "        return x\n",
        "\n",
        "\n",
        "class NaiveUnet(nn.Module):\n",
        "    def __init__(self, in_channels: int, out_channels: int, n_feat: int = 256, attribute_count=41) -> None:\n",
        "        super(NaiveUnet, self).__init__()\n",
        "        self.in_channels = in_channels\n",
        "        self.out_channels = out_channels\n",
        "\n",
        "        self.n_feat = n_feat\n",
        "\n",
        "        self.init_conv = Conv3(in_channels, n_feat, is_res=True)\n",
        "\n",
        "        self.labels = nn.Sequential(\n",
        "            nn.Conv2d(attribute_count, n_feat, 3,2,32),\n",
        "            nn.GroupNorm(8, n_feat),\n",
        "            nn.ReLU()\n",
        "        )\n",
        "        n_feat = n_feat*2\n",
        "        self.down1 = UnetDown(n_feat, n_feat)\n",
        "        self.down2 = UnetDown(n_feat, 2 * n_feat)\n",
        "        self.down3 = UnetDown(2 * n_feat, 2 * n_feat)\n",
        "\n",
        "        self.to_vec = nn.Sequential(nn.AvgPool2d(4), nn.ReLU())\n",
        "\n",
        "        self.timeembed = TimeSiren(2 * n_feat)\n",
        "\n",
        "        self.up0 = nn.Sequential(\n",
        "            nn.ConvTranspose2d(2 * n_feat, 2 * n_feat, 4, 4),\n",
        "            nn.GroupNorm(8, 2 * n_feat),\n",
        "            nn.ReLU(),\n",
        "        )\n",
        "\n",
        "        self.up1 = UnetUp(4 * n_feat, 2 * n_feat)\n",
        "        self.up2 = UnetUp(4 * n_feat, n_feat)\n",
        "        self.up3 = UnetUp(2 * n_feat, n_feat)\n",
        "        self.out = nn.Conv2d(192, self.out_channels, 3, 1, 1)\n",
        "        # self.out = nn.Conv2d(2 * n_feat, self.out_channels, 3, 1, 1)\n",
        "\n",
        "    def forward(self, x: torch.Tensor, t: torch.Tensor, y: torch.Tensor) -> torch.Tensor:\n",
        "        # print(\"X DEBUG\")\n",
        "        # print(x.shape)\n",
        "        xx = self.init_conv(x)\n",
        "        # x = self.init_conv(x)\n",
        "        # print(xx.shape)\n",
        "        # print(\"Y DEBUG\")\n",
        "        # print(y.shape)\n",
        "        yy = y.view(y.shape[0], y.shape[1], 1,1)\n",
        "        # print(yy.shape)\n",
        "        yyy = self.labels(yy)\n",
        "        # print(yyy.shape)\n",
        "        # print(\"END DEBUG\")\n",
        "        xy = torch.cat([xx,yyy], dim=1)\n",
        "\n",
        "        down1 = self.down1(xy)\n",
        "        # down1 = self.down1(x)\n",
        "        down2 = self.down2(down1)\n",
        "        down3 = self.down3(down2)\n",
        "\n",
        "        thro = self.to_vec(down3)\n",
        "        temb = self.timeembed(t).view(-1, self.n_feat * 4, 1, 1)\n",
        "        # temb = self.timeembed(t).view(-1, self.n_feat * 2, 1, 1)\n",
        "\n",
        "        thro = self.up0(thro + temb)\n",
        "\n",
        "        up1 = self.up1(thro, down3) + temb\n",
        "        up2 = self.up2(up1, down2)\n",
        "        up3 = self.up3(up2, down1)\n",
        "        # print(\"OUT DEBUG\")\n",
        "        # print(up3.shape)\n",
        "        # print(xx.shape)\n",
        "        # print(x.shape)\n",
        "        # print(\"END DEBUG\")\n",
        "        out = self.out(torch.cat((up3, xx), 1))\n",
        "\n",
        "        return out"
      ]
    },
    {
      "cell_type": "markdown",
      "metadata": {
        "id": "_qA4jjn7I43w"
      },
      "source": [
        "### Denoising Diffusion Probabilistic Model"
      ]
    },
    {
      "cell_type": "code",
      "execution_count": null,
      "metadata": {
        "id": "QV3QjCFT5rml"
      },
      "outputs": [],
      "source": [
        "from typing import Dict, Tuple\n",
        "\n",
        "\n",
        "import torch\n",
        "import torch.nn as nn\n",
        "from torch.utils.data import Dataset, DataLoader\n",
        "from typing import Dict, Optional, Tuple\n",
        "\n",
        "\n",
        "class DDPM(nn.Module):\n",
        "    def __init__(\n",
        "        self,\n",
        "        eps_model: nn.Module,\n",
        "        betas: Tuple[float, float],\n",
        "        n_T: int,\n",
        "        criterion: nn.Module = nn.MSELoss(),\n",
        "    ) -> None:\n",
        "        super(DDPM, self).__init__()\n",
        "        self.eps_model = eps_model\n",
        "\n",
        "        # register_buffer allows us to freely access these tensors by name. It helps device placement.\n",
        "        for k, v in ddpm_schedules(betas[0], betas[1], n_T).items():\n",
        "            self.register_buffer(k, v)\n",
        "\n",
        "        self.n_T = n_T\n",
        "        self.criterion = criterion\n",
        "\n",
        "    def forward(self, x: torch.Tensor, y: torch.Tensor) -> torch.Tensor:\n",
        "        \"\"\"\n",
        "        Makes forward diffusion x_t, and tries to guess epsilon value from x_t using eps_model.\n",
        "        This implements Algorithm 1 in the paper.\n",
        "        \"\"\"\n",
        "\n",
        "        _ts = torch.randint(1, self.n_T + 1, (x.shape[0],)).to(x.device)\n",
        "        # t ~ Uniform(0, n_T)\n",
        "        eps = torch.randn_like(x)  # eps ~ N(0, 1)\n",
        "\n",
        "        x_t = (\n",
        "            self.sqrtab[_ts, None, None, None] * x\n",
        "            + self.sqrtmab[_ts, None, None, None] * eps\n",
        "        )  # This is the x_t, which is sqrt(alphabar) x_0 + sqrt(1-alphabar) * eps\n",
        "        # We should predict the \"error term\" from this x_t. Loss is what we return.\n",
        "\n",
        "        return self.criterion(eps, self.eps_model(x=x_t, t=_ts / self.n_T, y=y))\n",
        "\n",
        "    def sample(self, n_sample: int, size, device, attrs = None) -> torch.Tensor:\n",
        "\n",
        "        # x_i = torch.randn(n_sample, *size).to(device)  # x_T ~ N(0, 1)\n",
        "        x_i = torch.randn(n_sample, *size).to(device)\n",
        "\n",
        "\n",
        "        # This samples accordingly to Algorithm 2. It is exactly the same logic.\n",
        "        for i in range(self.n_T, 0, -1):\n",
        "            z = torch.randn(n_sample, *size).to(device) if i > 1 else 0\n",
        "            eps = self.eps_model(\n",
        "                x_i, torch.tensor(i / self.n_T).to(device).repeat(n_sample, 1), attrs\n",
        "            )\n",
        "            x_i = (\n",
        "                self.oneover_sqrta[i] * (x_i - eps * self.mab_over_sqrtmab[i])\n",
        "                + self.sqrt_beta_t[i] * z\n",
        "            )\n",
        "\n",
        "        return x_i\n",
        "\n",
        "\n",
        "def ddpm_schedules(beta1: float, beta2: float, T: int) -> Dict[str, torch.Tensor]:\n",
        "    \"\"\"\n",
        "    Returns pre-computed schedules for DDPM sampling, training process.\n",
        "    \"\"\"\n",
        "    assert beta1 < beta2 < 1.0, \"beta1 and beta2 must be in (0, 1)\"\n",
        "\n",
        "    beta_t = (beta2 - beta1) * torch.arange(0, T + 1, dtype=torch.float32) / T + beta1\n",
        "    sqrt_beta_t = torch.sqrt(beta_t)\n",
        "    alpha_t = 1 - beta_t\n",
        "    log_alpha_t = torch.log(alpha_t)\n",
        "    alphabar_t = torch.cumsum(log_alpha_t, dim=0).exp()\n",
        "\n",
        "    sqrtab = torch.sqrt(alphabar_t)\n",
        "    oneover_sqrta = 1 / torch.sqrt(alpha_t)\n",
        "\n",
        "    sqrtmab = torch.sqrt(1 - alphabar_t)\n",
        "    mab_over_sqrtmab_inv = (1 - alpha_t) / sqrtmab\n",
        "\n",
        "    return {\n",
        "        \"alpha_t\": alpha_t,  # \\alpha_t\n",
        "        \"oneover_sqrta\": oneover_sqrta,  # 1/\\sqrt{\\alpha_t}\n",
        "        \"sqrt_beta_t\": sqrt_beta_t,  # \\sqrt{\\beta_t}\n",
        "        \"alphabar_t\": alphabar_t,  # \\bar{\\alpha_t}\n",
        "        \"sqrtab\": sqrtab,  # \\sqrt{\\bar{\\alpha_t}}\n",
        "        \"sqrtmab\": sqrtmab,  # \\sqrt{1-\\bar{\\alpha_t}}\n",
        "        \"mab_over_sqrtmab\": mab_over_sqrtmab_inv,  # (1-\\alpha_t)/\\sqrt{1-\\bar{\\alpha_t}}\n",
        "    }"
      ]
    },
    {
      "cell_type": "markdown",
      "source": [
        "### Dataset"
      ],
      "metadata": {
        "id": "KhnJvTm4n_8Z"
      }
    },
    {
      "cell_type": "code",
      "source": [
        "from torchvision.datasets import CIFAR10\n",
        "from torchvision.datasets import CelebA"
      ],
      "metadata": {
        "id": "6oWvcCsVvAzz"
      },
      "execution_count": null,
      "outputs": []
    },
    {
      "cell_type": "code",
      "execution_count": null,
      "metadata": {
        "id": "2eEu3ZVZGJVa"
      },
      "outputs": [],
      "source": [
        "x_size = 32\n",
        "y_size = 32"
      ]
    },
    {
      "cell_type": "code",
      "execution_count": null,
      "metadata": {
        "id": "rBJeO_gPGDsK"
      },
      "outputs": [],
      "source": [
        "tf = transforms.Compose(\n",
        "  [\n",
        "    transforms.Resize((x_size, y_size)),\n",
        "    transforms.ToTensor(), \n",
        "    transforms.Normalize((0.5, 0.5, 0.5), (0.5, 0.5, 0.5))\n",
        "  ]\n",
        ")"
      ]
    },
    {
      "cell_type": "code",
      "source": [
        "from google.colab import drive\n",
        "drive.mount('/content/drive/')"
      ],
      "metadata": {
        "id": "XHhMYmkYrqRi"
      },
      "execution_count": null,
      "outputs": []
    },
    {
      "cell_type": "code",
      "source": [
        "!mkdir -p .data"
      ],
      "metadata": {
        "id": "1QlAb9jmsPpl"
      },
      "execution_count": null,
      "outputs": []
    },
    {
      "cell_type": "code",
      "execution_count": null,
      "metadata": {
        "id": "1qLCertIF9wj"
      },
      "outputs": [],
      "source": [
        "import time \n",
        "\n",
        "dataset = None\n",
        "result = None\n",
        "while result is None:\n",
        "    try:\n",
        "      # connect\n",
        "      dataset = CelebA(\n",
        "        \"./data\",\n",
        "        download=True,\n",
        "        transform=tf,\n",
        "      )\n",
        "      result = True\n",
        "    except Exception as e:\n",
        "      print(e)\n",
        "      time.sleep(60)\n",
        "      pass\n",
        "\n",
        "\n",
        "# dataset = CIFAR10(\n",
        "#     \"./data\",\n",
        "#     train=True,\n",
        "#     download=True,\n",
        "#     transform=tf,\n",
        "# )"
      ]
    },
    {
      "cell_type": "code",
      "execution_count": null,
      "metadata": {
        "id": "K3j-SLDjnDI0"
      },
      "outputs": [],
      "source": [
        "subset = torch.utils.data.Subset(dataset, range(0,12800))"
      ]
    },
    {
      "cell_type": "code",
      "source": [
        "dataloader = DataLoader(subset, batch_size=128, shuffle=True, num_workers=1)"
      ],
      "metadata": {
        "id": "qLZ0wYHb3hGS"
      },
      "execution_count": null,
      "outputs": []
    },
    {
      "cell_type": "markdown",
      "metadata": {
        "id": "eZLjKBSjJk1N"
      },
      "source": [
        "### Train DDPM"
      ]
    },
    {
      "cell_type": "code",
      "execution_count": null,
      "metadata": {
        "id": "0u4Whgf2uPFA"
      },
      "outputs": [],
      "source": [
        "import matplotlib.pyplot as plt\n",
        "from typing import Dict, Optional, Tuple\n",
        "from sympy import Ci\n",
        "from tqdm import tqdm\n",
        "\n",
        "import torch\n",
        "import torch.nn as nn\n",
        "from torch.utils.data import Dataset, DataLoader\n",
        "\n",
        "from torchvision import transforms\n",
        "from torchvision.utils import save_image, make_grid\n",
        "\n",
        "from pathlib import Path\n",
        "\n",
        "\n",
        "def create_model(load_pth = False, device: str = \"cuda:0\"):\n",
        "    ddpm = DDPM(eps_model=NaiveUnet(3, 3, n_feat=64, attribute_count = dataset.attr.shape[1]), betas=(1e-4, 0.02), n_T=1000)\n",
        "    if load_pth:\n",
        "      my_file = Path(\"ddpm.pth\")\n",
        "      if my_file.is_file(): \n",
        "        print(\"Loading Model from File\")\n",
        "        ddpm.load_state_dict(torch.load(\"ddpm.pth\"))\n",
        "    ddpm.to(device)\n",
        "    return ddpm\n",
        "\n",
        "def train(ddpm: Optional[any] = None, n_epoch: int = 1, device: str = \"cuda:0\", \n",
        "          dataloader = None, x_size=32, y_size=32, modulo_print=1) -> None:\n",
        "\n",
        "    if ddpm == None:\n",
        "      print(\"Creating Model\")\n",
        "      ddpm = create_model()\n",
        "\n",
        "    optim = torch.optim.Adam(ddpm.parameters(), lr=1e-5)\n",
        "\n",
        "    for i in range(n_epoch):\n",
        "        print(f\"Epoch {i} : \")\n",
        "        ddpm.train()\n",
        "\n",
        "        pbar = tqdm(dataloader)\n",
        "        loss_ema = None\n",
        "        for x, y in pbar:\n",
        "            optim.zero_grad()\n",
        "            x = x.to(device)\n",
        "            y = y.to(device)\n",
        "            # print(y)\n",
        "            loss = ddpm(x,y.float())\n",
        "            loss.backward()\n",
        "            if loss_ema is None:\n",
        "                loss_ema = loss.item()\n",
        "            else:\n",
        "                loss_ema = 0.9 * loss_ema + 0.1 * loss.item()\n",
        "            pbar.set_description(f\"loss: {loss_ema:.4f}\")\n",
        "            optim.step()\n",
        "\n",
        "        ddpm.eval()\n",
        "        with torch.no_grad():\n",
        "          if i % modulo_print == 0:\n",
        "            test_rand = (torch.rand(size=(8,dataset.attr.shape[1])) < 0.95).int().float().to(device)\n",
        "            xh = ddpm.sample(8, (3, x_size, y_size), device, test_rand)\n",
        "            xset = torch.cat([xh, x[:8]], dim=0)\n",
        "            grid = make_grid(xset, normalize=True, value_range=(-1, 1), nrow=4)\n",
        "            plt.imshow(\n",
        "                transforms.functional.vflip(\n",
        "                  transforms.functional.rotate(grid.cpu(), 90).T)\n",
        "                )\n",
        "            plt.show()\n",
        "            save_image(grid, f\"/content/images/ddpm_sample_{i}.png\")\n",
        "            # save model\n",
        "            torch.save(ddpm.state_dict(), f\"./ddpm.pth\")"
      ]
    },
    {
      "cell_type": "markdown",
      "metadata": {
        "id": "GrtiT0DnUdq7"
      },
      "source": [
        "### Begin Training"
      ]
    },
    {
      "cell_type": "code",
      "execution_count": null,
      "metadata": {
        "id": "548AtzYdfcQu"
      },
      "outputs": [],
      "source": [
        "ddpm = create_model(load_pth=True)"
      ]
    },
    {
      "cell_type": "code",
      "execution_count": null,
      "metadata": {
        "id": "queVPwNqDNyq"
      },
      "outputs": [],
      "source": [
        "import torch\n",
        "import gc\n",
        "gc.collect()\n",
        "torch.cuda.empty_cache()\n",
        "torch.cuda.synchronize()\n",
        "# torch.cuda.memory_summary(device=None, abbreviated=False)"
      ]
    },
    {
      "cell_type": "code",
      "execution_count": null,
      "metadata": {
        "colab": {
          "base_uri": "https://localhost:8080/"
        },
        "id": "Z-CVHSFNUxD7",
        "outputId": "a7d5e5c8-3024-41a5-a931-9227a4d57835"
      },
      "outputs": [
        {
          "output_type": "stream",
          "name": "stderr",
          "text": [
            "loss: 0.8483:  92%|█████████▏| 92/100 [00:25<00:02,  3.63it/s]"
          ]
        }
      ],
      "source": [
        "train(ddpm, n_epoch=1, dataloader=dataloader, x_size=x_size, y_size=y_size, modulo_print=10)"
      ]
    },
    {
      "cell_type": "markdown",
      "metadata": {
        "id": "UUDImX_mUTxi"
      },
      "source": [
        "### Testing\n"
      ]
    },
    {
      "cell_type": "code",
      "source": [
        "zz = torch.rand((128, 40, 1, 1))"
      ],
      "metadata": {
        "id": "obo7TNQBWOVP"
      },
      "execution_count": null,
      "outputs": []
    },
    {
      "cell_type": "code",
      "source": [
        "zz.shape\n",
        "c = nn.Conv2d(40, 128,3,2,32)\n",
        "c = nn.Conv2d(40, 128, 3,2,32)\n",
        "rl = nn.ReLU()\n",
        "rl(c(zz)).shape\n",
        "# ct = nn.ConvTranspose2d(40,33,3,2,1)\n",
        "# ct(zz).shape\n",
        "n = nn.GroupNorm(8, 256)\n",
        "n(c(zz)).shape"
      ],
      "metadata": {
        "id": "1Oe8cZkiWaum"
      },
      "execution_count": null,
      "outputs": []
    },
    {
      "cell_type": "code",
      "execution_count": null,
      "metadata": {
        "id": "mqWBpiTHosoq"
      },
      "outputs": [],
      "source": [
        "!pip install transformers"
      ]
    },
    {
      "cell_type": "code",
      "execution_count": null,
      "metadata": {
        "id": "T3fOAlwsnudT"
      },
      "outputs": [],
      "source": [
        "from PIL import Image\n",
        "import requests\n",
        "\n",
        "from transformers import CLIPProcessor, CLIPModel\n",
        "\n",
        "model = CLIPModel.from_pretrained(\"openai/clip-vit-base-patch32\")\n",
        "processor = CLIPProcessor.from_pretrained(\"openai/clip-vit-base-patch32\")"
      ]
    },
    {
      "cell_type": "code",
      "execution_count": null,
      "metadata": {
        "id": "kuKZzWk5fC9C"
      },
      "outputs": [],
      "source": [
        "def norm(tensor, value_range):\n",
        "  tensor = tensor.clone()  # avoid modifying tensor in-place\n",
        "  if value_range is not None and not isinstance(value_range, tuple):\n",
        "      raise TypeError(\"value_range has to be a tuple (min, max) if specified. min and max are numbers\")\n",
        "\n",
        "  def norm_ip(img, low, high):\n",
        "      img.clamp_(min=low, max=high)\n",
        "      img.sub_(low).div_(max(high - low, 1e-5))\n",
        "\n",
        "  def norm_range(t, value_range):\n",
        "      if value_range is not None:\n",
        "          norm_ip(t, value_range[0], value_range[1])\n",
        "      else:\n",
        "          norm_ip(t, float(t.min()), float(t.max()))\n",
        "  norm_range(tensor, value_range)\n",
        "  return tensor"
      ]
    },
    {
      "cell_type": "code",
      "execution_count": null,
      "metadata": {
        "id": "YDNILNtEo_a9"
      },
      "outputs": [],
      "source": [
        "def guide(guided_img, score):\n",
        "  with torch.no_grad():\n",
        "    x = ddpm.sample(8, (3, 32, 32), \"cuda:0\", guided_img, 2000)\n",
        "    xx = torch.cat([x, x], dim=0)\n",
        "    grid = make_grid(xx, normalize=True, value_range=(-1, 1), nrow=4)\n",
        "    plt.imshow(\n",
        "      transforms.functional.vflip(\n",
        "        transforms.functional.rotate(grid.cpu(), 90).T)\n",
        "    )\n",
        "    plt.show()\n",
        "    i = 0\n",
        "    ii = []\n",
        "    ii_logits = []\n",
        "    best_idx = 0\n",
        "    best_score = 0\n",
        "    for t in x.cpu():\n",
        "      ii.append(t)\n",
        "      img = transforms.ToPILImage(mode='RGB')(norm(t, value_range=(-1, 1)))\n",
        "      # print(img)\n",
        "      # plt.imshow(img)\n",
        "      # plt.show()\n",
        "      inputs = processor(text=[\"cat\",\"tree\"], images=img, return_tensors=\"pt\", padding=True)\n",
        "      outputs = model(**inputs)\n",
        "      logits_per_image = outputs.logits_per_image # this is the image-text similarity score\n",
        "      # probs = logits_per_image.softmax(dim=1) # we can take the softmax to get the label probabilities\n",
        "      ii_logits.append(logits_per_image.numpy()[0][0])\n",
        "      # print(logits_per_image)\n",
        "      # print(ii_logits)\n",
        "      best_score = max(ii_logits)\n",
        "      best_idx = ii_logits.index(best_score)\n",
        "      # print(best_idx)\n",
        "\n",
        "    print(best_idx)\n",
        "    # print(ii[best_idx].shape)\n",
        "    # print(best_score)\n",
        "    b = ii[best_idx].cuda()[None, :, :, :]\n",
        "    best_stacked = torch.cat([b,b,b,b,b,b,b,b],dim=0)\n",
        "    if best_score > score:\n",
        "      print(\"Improved!\")\n",
        "      print(best_score)\n",
        "      guide(best_stacked,best_score)\n",
        "    else:\n",
        "      print(score)\n",
        "      guide(guided_img,score)"
      ]
    },
    {
      "cell_type": "code",
      "execution_count": null,
      "metadata": {
        "id": "MynIFGpJ2D9g"
      },
      "outputs": [],
      "source": [
        "guide(None,0.0)\n"
      ]
    },
    {
      "cell_type": "markdown",
      "metadata": {
        "id": "96HiV3jBrUTD"
      },
      "source": [
        "### Playground"
      ]
    },
    {
      "cell_type": "code",
      "execution_count": null,
      "metadata": {
        "id": "JUzNtV4Hg6Br"
      },
      "outputs": [],
      "source": [
        "!pip install GPUtil\n",
        "\n",
        "from GPUtil import showUtilization as gpu_usage\n",
        "# gpu_usage()   "
      ]
    },
    {
      "cell_type": "code",
      "execution_count": null,
      "metadata": {
        "id": "TXH094WqmaD2"
      },
      "outputs": [],
      "source": [
        "from numba import cuda\n",
        "cuda.select_device(0)\n",
        "cuda.close()\n",
        "cuda.select_device(0)"
      ]
    },
    {
      "cell_type": "code",
      "execution_count": null,
      "metadata": {
        "id": "2DapTiPvmgvX"
      },
      "outputs": [],
      "source": [
        "!pip install GPUtil\n",
        "\n",
        "import torch\n",
        "from GPUtil import showUtilization as gpu_usage\n",
        "from numba import cuda\n",
        "\n",
        "def free_gpu_cache():\n",
        "    print(\"Initial GPU Usage\")\n",
        "    gpu_usage()                             \n",
        "\n",
        "    torch.cuda.empty_cache()\n",
        "\n",
        "    cuda.select_device(0)\n",
        "    cuda.close()\n",
        "    cuda.select_device(0)\n",
        "\n",
        "    print(\"GPU Usage after emptying the cache\")\n",
        "    gpu_usage()\n",
        "\n",
        "free_gpu_cache()  "
      ]
    },
    {
      "cell_type": "code",
      "execution_count": null,
      "metadata": {
        "id": "ljMo8U9umlfz"
      },
      "outputs": [],
      "source": [
        ""
      ]
    }
  ],
  "metadata": {
    "accelerator": "GPU",
    "colab": {
      "collapsed_sections": [],
      "name": "min_diffusion_dct_guided.ipynb",
      "provenance": [],
      "authorship_tag": "ABX9TyOsCvUAioo/WT7NRqbXJl2c",
      "include_colab_link": true
    },
    "gpuClass": "standard",
    "kernelspec": {
      "display_name": "Python 3",
      "name": "python3"
    },
    "language_info": {
      "name": "python"
    }
  },
  "nbformat": 4,
  "nbformat_minor": 0
}